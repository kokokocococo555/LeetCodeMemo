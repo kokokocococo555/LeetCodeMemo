{
 "cells": [
  {
   "cell_type": "code",
   "execution_count": 40,
   "metadata": {},
   "outputs": [
    {
     "name": "stdout",
     "output_type": "stream",
     "text": [
      "[[1, 1, 1], [1, 0, 1], [1, 1, 1]]\n",
      "[[1, 1, 1], [1, 0, 1], [1, 1, 2]]\n"
     ]
    },
    {
     "data": {
      "text/plain": [
       "2"
      ]
     },
     "execution_count": 40,
     "metadata": {},
     "output_type": "execute_result"
    }
   ],
   "source": [
    "class Solution:\n",
    "    def uniquePathsWithObstacles(self, obstacleGrid):\n",
    "        og = obstacleGrid\n",
    "        r = len(og)\n",
    "        c = len(og[0])\n",
    "        for i in range(r):\n",
    "            for j in range(c):\n",
    "                if og[i][j]==1:\n",
    "                    og[i][j] = 0\n",
    "                else:\n",
    "                    og[i][j] = 1\n",
    "\n",
    "        print(og)\n",
    "        flg = 0\n",
    "        for j in range(c):\n",
    "            if og[0][j]==0:\n",
    "                flg = 1\n",
    "            if flg==1:\n",
    "                og[0][j] = 0\n",
    "            \n",
    "        flg = 0\n",
    "        for i in range(r):\n",
    "            if og[i][0]==0:\n",
    "                flg = 1\n",
    "            if flg==1:\n",
    "                og[i][0] = 0\n",
    "        \n",
    "        for i in range(1, r):\n",
    "            for j in range(1, c):\n",
    "                if og[i][j]!=0:\n",
    "                    og[i][j] = og[i-1][j]+og[i][j-1]\n",
    "                    \n",
    "        print(og)\n",
    "        return og[-1][-1]\n",
    "    \n",
    "ins = Solution()\n",
    "obstacleGrid = [[0,0,0],[0,1,0],[0,0,0]]\n",
    "ins.uniquePathsWithObstacles(obstacleGrid)"
   ]
  },
  {
   "cell_type": "code",
   "execution_count": null,
   "metadata": {},
   "outputs": [],
   "source": []
  },
  {
   "cell_type": "code",
   "execution_count": null,
   "metadata": {},
   "outputs": [],
   "source": []
  },
  {
   "cell_type": "code",
   "execution_count": null,
   "metadata": {},
   "outputs": [],
   "source": []
  },
  {
   "cell_type": "code",
   "execution_count": null,
   "metadata": {},
   "outputs": [],
   "source": []
  },
  {
   "cell_type": "code",
   "execution_count": null,
   "metadata": {},
   "outputs": [],
   "source": []
  },
  {
   "cell_type": "code",
   "execution_count": 10,
   "metadata": {},
   "outputs": [],
   "source": [
    "class Solution:\n",
    "    def isValidSudoku(self, board):\n",
    "        # columns\n",
    "        col_board = [[] for _ in range(9)]\n",
    "        # 9*9\n",
    "        nine_board = [[] for _ in range(9)]\n",
    "        for i in range(len(board)):\n",
    "            lis = board[i]\n",
    "            print(lis)\n",
    "            # rows\n",
    "            if not self.isValid(lis):\n",
    "                return False\n",
    "\n",
    "            for j in range(len(lis)):\n",
    "                # columns\n",
    "                col_board[j].append(lis[j])\n",
    "                # 9*9\n",
    "                idx = (i//3)+((j//3)*3)\n",
    "                nine_board[idx].append(lis[j])\n",
    "        # columns\n",
    "        for col in col_board:\n",
    "            print(col)\n",
    "            if not self.isValid(col):\n",
    "                return False\n",
    "        # 9*9\n",
    "        for nine in nine_board:\n",
    "            print(nine)\n",
    "            if not self.isValid(nine):\n",
    "                return False\n",
    "            \n",
    "        return True\n",
    "\n",
    "\n",
    "    def isValid(self, lis):\n",
    "        dic = {}\n",
    "        for i in lis:\n",
    "            if i!=\".\":\n",
    "                dic[i] = dic.get(i, 0)+1\n",
    "                print(dic[i])\n",
    "                if dic[i]==2:\n",
    "                    return False\n",
    "        return True"
   ]
  },
  {
   "cell_type": "code",
   "execution_count": 11,
   "metadata": {
    "scrolled": true
   },
   "outputs": [
    {
     "name": "stdout",
     "output_type": "stream",
     "text": [
      "['5', '3', '.', '.', '7', '.', '.', '.', '.']\n",
      "1\n",
      "1\n",
      "1\n",
      "['6', '.', '.', '1', '9', '5', '.', '.', '.']\n",
      "1\n",
      "1\n",
      "1\n",
      "1\n",
      "['.', '9', '8', '.', '.', '.', '.', '6', '.']\n",
      "1\n",
      "1\n",
      "1\n",
      "['8', '.', '.', '.', '6', '.', '.', '.', '3']\n",
      "1\n",
      "1\n",
      "1\n",
      "['4', '.', '.', '8', '.', '3', '.', '.', '1']\n",
      "1\n",
      "1\n",
      "1\n",
      "1\n",
      "['7', '.', '.', '.', '2', '.', '.', '.', '6']\n",
      "1\n",
      "1\n",
      "1\n",
      "['.', '6', '.', '.', '.', '.', '2', '8', '.']\n",
      "1\n",
      "1\n",
      "1\n",
      "['.', '.', '.', '4', '1', '9', '.', '.', '5']\n",
      "1\n",
      "1\n",
      "1\n",
      "1\n",
      "['.', '.', '.', '.', '8', '.', '.', '7', '9']\n",
      "1\n",
      "1\n",
      "1\n",
      "['5', '6', '.', '8', '4', '7', '.', '.', '.']\n",
      "1\n",
      "1\n",
      "1\n",
      "1\n",
      "1\n",
      "['3', '.', '9', '.', '.', '.', '6', '.', '.']\n",
      "1\n",
      "1\n",
      "1\n",
      "['.', '.', '8', '.', '.', '.', '.', '.', '.']\n",
      "1\n",
      "['.', '1', '.', '.', '8', '.', '.', '4', '.']\n",
      "1\n",
      "1\n",
      "1\n",
      "['7', '9', '.', '6', '.', '2', '.', '1', '8']\n",
      "1\n",
      "1\n",
      "1\n",
      "1\n",
      "1\n",
      "1\n",
      "['.', '5', '.', '.', '3', '.', '.', '9', '.']\n",
      "1\n",
      "1\n",
      "1\n",
      "['.', '.', '.', '.', '.', '.', '2', '.', '.']\n",
      "1\n",
      "['.', '.', '6', '.', '.', '.', '8', '.', '7']\n",
      "1\n",
      "1\n",
      "1\n",
      "['.', '.', '.', '3', '1', '6', '.', '5', '9']\n",
      "1\n",
      "1\n",
      "1\n",
      "1\n",
      "1\n",
      "['5', '3', '.', '6', '.', '.', '.', '9', '8']\n",
      "1\n",
      "1\n",
      "1\n",
      "1\n",
      "1\n",
      "['8', '.', '.', '4', '.', '.', '7', '.', '.']\n",
      "1\n",
      "1\n",
      "1\n",
      "['.', '6', '.', '.', '.', '.', '.', '.', '.']\n",
      "1\n",
      "['.', '7', '.', '1', '9', '5', '.', '.', '.']\n",
      "1\n",
      "1\n",
      "1\n",
      "1\n",
      "['.', '6', '.', '8', '.', '3', '.', '2', '.']\n",
      "1\n",
      "1\n",
      "1\n",
      "1\n",
      "['.', '.', '.', '4', '1', '9', '.', '8', '.']\n",
      "1\n",
      "1\n",
      "1\n",
      "1\n",
      "['.', '.', '.', '.', '.', '.', '.', '6', '.']\n",
      "1\n",
      "['.', '.', '3', '.', '.', '1', '.', '.', '6']\n",
      "1\n",
      "1\n",
      "1\n",
      "['2', '8', '.', '.', '.', '5', '.', '7', '9']\n",
      "1\n",
      "1\n",
      "1\n",
      "1\n",
      "1\n"
     ]
    },
    {
     "data": {
      "text/plain": [
       "True"
      ]
     },
     "execution_count": 11,
     "metadata": {},
     "output_type": "execute_result"
    }
   ],
   "source": [
    "ins = Solution()\n",
    "inp = [[\"5\",\"3\",\".\",\".\",\"7\",\".\",\".\",\".\",\".\"],[\"6\",\".\",\".\",\"1\",\"9\",\"5\",\".\",\".\",\".\"],[\".\",\"9\",\"8\",\".\",\".\",\".\",\".\",\"6\",\".\"],[\"8\",\".\",\".\",\".\",\"6\",\".\",\".\",\".\",\"3\"],[\"4\",\".\",\".\",\"8\",\".\",\"3\",\".\",\".\",\"1\"],[\"7\",\".\",\".\",\".\",\"2\",\".\",\".\",\".\",\"6\"],[\".\",\"6\",\".\",\".\",\".\",\".\",\"2\",\"8\",\".\"],[\".\",\".\",\".\",\"4\",\"1\",\"9\",\".\",\".\",\"5\"],[\".\",\".\",\".\",\".\",\"8\",\".\",\".\",\"7\",\"9\"]]\n",
    "ins.isValidSudoku(inp)"
   ]
  },
  {
   "cell_type": "code",
   "execution_count": 30,
   "metadata": {},
   "outputs": [],
   "source": [
    "# https://leetcode.com/problems/combination-sum/discuss/16506/8-line-Python-solution-dynamic-programming-beats-86.77\n",
    "class Solution:\n",
    "    def combinationSum(self, candidates, target):\n",
    "        candidates.sort()\n",
    "        dp = [[[]]]+[[] for _ in range(target)]\n",
    "        for i in range(1, target+1):\n",
    "            for n in candidates:\n",
    "                if n>i:\n",
    "                    break\n",
    "                for lis in dp[i-n]:\n",
    "                    if not lis:\n",
    "                        dp[i] += lis+[n]\n",
    "                    elif n>=lis:\n",
    "                        dp[i] += [lis]+[n]\n",
    "        print(dp)\n",
    "        return dp[target]"
   ]
  },
  {
   "cell_type": "code",
   "execution_count": 31,
   "metadata": {
    "scrolled": false
   },
   "outputs": [
    {
     "name": "stdout",
     "output_type": "stream",
     "text": [
      "[[[]], [], [2], [3], [2, 2], [2, 3], [2, 2, 2, 2, 3, 3, 6], [2, 2, 2, 3, 2, 3, 7]]\n"
     ]
    },
    {
     "data": {
      "text/plain": [
       "[2, 2, 2, 3, 2, 3, 7]"
      ]
     },
     "execution_count": 31,
     "metadata": {},
     "output_type": "execute_result"
    }
   ],
   "source": [
    "ins = Solution()\n",
    "candidates = [2,3,6,7]\n",
    "target = 7\n",
    "ins.combinationSum(candidates, target)"
   ]
  },
  {
   "cell_type": "code",
   "execution_count": 16,
   "metadata": {},
   "outputs": [
    {
     "name": "stdout",
     "output_type": "stream",
     "text": [
      "> \u001b[1;32m<ipython-input-13-617e111e1829>\u001b[0m(11)\u001b[0;36mcombinationSum\u001b[1;34m()\u001b[0m\n",
      "\u001b[1;32m      9 \u001b[1;33m                    \u001b[1;32mbreak\u001b[0m\u001b[1;33m\u001b[0m\u001b[1;33m\u001b[0m\u001b[0m\n",
      "\u001b[0m\u001b[1;32m     10 \u001b[1;33m                \u001b[1;32mfor\u001b[0m \u001b[0mlis\u001b[0m \u001b[1;32min\u001b[0m \u001b[0mdp\u001b[0m\u001b[1;33m[\u001b[0m\u001b[0mi\u001b[0m\u001b[1;33m-\u001b[0m\u001b[0mn\u001b[0m\u001b[1;33m]\u001b[0m\u001b[1;33m:\u001b[0m\u001b[1;33m\u001b[0m\u001b[1;33m\u001b[0m\u001b[0m\n",
      "\u001b[0m\u001b[1;32m---> 11 \u001b[1;33m                    \u001b[1;32mif\u001b[0m \u001b[1;32mnot\u001b[0m \u001b[0mlis\u001b[0m \u001b[1;32mor\u001b[0m \u001b[0mn\u001b[0m\u001b[1;33m>=\u001b[0m\u001b[0mlis\u001b[0m\u001b[1;33m[\u001b[0m\u001b[1;33m-\u001b[0m\u001b[1;36m1\u001b[0m\u001b[1;33m]\u001b[0m\u001b[1;33m:\u001b[0m\u001b[1;33m\u001b[0m\u001b[1;33m\u001b[0m\u001b[0m\n",
      "\u001b[0m\u001b[1;32m     12 \u001b[1;33m                        \u001b[0mdp\u001b[0m\u001b[1;33m[\u001b[0m\u001b[0mi\u001b[0m\u001b[1;33m]\u001b[0m \u001b[1;33m+=\u001b[0m \u001b[0mlis\u001b[0m\u001b[1;33m+\u001b[0m\u001b[1;33m[\u001b[0m\u001b[0mn\u001b[0m\u001b[1;33m]\u001b[0m\u001b[1;33m\u001b[0m\u001b[1;33m\u001b[0m\u001b[0m\n",
      "\u001b[0m\u001b[1;32m     13 \u001b[1;33m        \u001b[1;32mreturn\u001b[0m \u001b[0mdp\u001b[0m\u001b[1;33m[\u001b[0m\u001b[0mtarget\u001b[0m\u001b[1;33m]\u001b[0m\u001b[1;33m\u001b[0m\u001b[1;33m\u001b[0m\u001b[0m\n",
      "\u001b[0m\n",
      "ipdb> p dp\n",
      "[[[]], [], [2], [3], [], [], [], []]\n",
      "ipdb> p i\n",
      "4\n",
      "ipdb> p n\n",
      "2\n",
      "ipdb> p lis\n",
      "2\n",
      "ipdb> c\n"
     ]
    }
   ],
   "source": [
    "%debug"
   ]
  },
  {
   "cell_type": "code",
   "execution_count": 17,
   "metadata": {},
   "outputs": [],
   "source": [
    "dp = []"
   ]
  },
  {
   "cell_type": "code",
   "execution_count": 18,
   "metadata": {},
   "outputs": [
    {
     "data": {
      "text/plain": [
       "[2]"
      ]
     },
     "execution_count": 18,
     "metadata": {},
     "output_type": "execute_result"
    }
   ],
   "source": [
    "dp + [2]"
   ]
  },
  {
   "cell_type": "code",
   "execution_count": 19,
   "metadata": {},
   "outputs": [],
   "source": [
    "dp = [2, 3, 4]"
   ]
  },
  {
   "cell_type": "code",
   "execution_count": 20,
   "metadata": {},
   "outputs": [
    {
     "data": {
      "text/plain": [
       "[2, 3, 4]"
      ]
     },
     "execution_count": 20,
     "metadata": {},
     "output_type": "execute_result"
    }
   ],
   "source": [
    "dp"
   ]
  },
  {
   "cell_type": "code",
   "execution_count": 22,
   "metadata": {},
   "outputs": [],
   "source": [
    "dp += [2]+[3]"
   ]
  },
  {
   "cell_type": "code",
   "execution_count": 23,
   "metadata": {},
   "outputs": [
    {
     "data": {
      "text/plain": [
       "[2, 3, 4, 2, 3]"
      ]
     },
     "execution_count": 23,
     "metadata": {},
     "output_type": "execute_result"
    }
   ],
   "source": [
    "dp"
   ]
  },
  {
   "cell_type": "code",
   "execution_count": 50,
   "metadata": {
    "lines_to_next_cell": 0
   },
   "outputs": [
    {
     "name": "stdout",
     "output_type": "stream",
     "text": [
      "[1, 2, 3] 0\n",
      "[2, 3] 0\n",
      "[3] 0\n",
      "[] 1\n"
     ]
    },
    {
     "ename": "IndexError",
     "evalue": "pop from empty list",
     "output_type": "error",
     "traceback": [
      "\u001b[1;31m---------------------------------------------------------------------------\u001b[0m",
      "\u001b[1;31mIndexError\u001b[0m                                Traceback (most recent call last)",
      "\u001b[1;32m<ipython-input-50-54ac128230ed>\u001b[0m in \u001b[0;36m<module>\u001b[1;34m\u001b[0m\n\u001b[0;32m     19\u001b[0m \u001b[0mins\u001b[0m \u001b[1;33m=\u001b[0m \u001b[0mSolution\u001b[0m\u001b[1;33m(\u001b[0m\u001b[1;33m)\u001b[0m\u001b[1;33m\u001b[0m\u001b[1;33m\u001b[0m\u001b[0m\n\u001b[0;32m     20\u001b[0m \u001b[0mnums\u001b[0m \u001b[1;33m=\u001b[0m \u001b[1;33m[\u001b[0m\u001b[1;36m1\u001b[0m\u001b[1;33m,\u001b[0m\u001b[1;36m2\u001b[0m\u001b[1;33m,\u001b[0m\u001b[1;36m3\u001b[0m\u001b[1;33m]\u001b[0m\u001b[1;33m\u001b[0m\u001b[1;33m\u001b[0m\u001b[0m\n\u001b[1;32m---> 21\u001b[1;33m \u001b[0mins\u001b[0m\u001b[1;33m.\u001b[0m\u001b[0mpermute\u001b[0m\u001b[1;33m(\u001b[0m\u001b[0mnums\u001b[0m\u001b[1;33m)\u001b[0m\u001b[1;33m\u001b[0m\u001b[1;33m\u001b[0m\u001b[0m\n\u001b[0m",
      "\u001b[1;32m<ipython-input-50-54ac128230ed>\u001b[0m in \u001b[0;36mpermute\u001b[1;34m(self, nums)\u001b[0m\n\u001b[0;32m      2\u001b[0m     \u001b[1;32mdef\u001b[0m \u001b[0mpermute\u001b[0m\u001b[1;33m(\u001b[0m\u001b[0mself\u001b[0m\u001b[1;33m,\u001b[0m \u001b[0mnums\u001b[0m\u001b[1;33m)\u001b[0m\u001b[1;33m:\u001b[0m\u001b[1;33m\u001b[0m\u001b[1;33m\u001b[0m\u001b[0m\n\u001b[0;32m      3\u001b[0m         \u001b[0mans\u001b[0m \u001b[1;33m=\u001b[0m \u001b[1;33m[\u001b[0m\u001b[1;33m]\u001b[0m\u001b[1;33m\u001b[0m\u001b[1;33m\u001b[0m\u001b[0m\n\u001b[1;32m----> 4\u001b[1;33m         \u001b[0mself\u001b[0m\u001b[1;33m.\u001b[0m\u001b[0mbacktracking\u001b[0m\u001b[1;33m(\u001b[0m\u001b[0mnums\u001b[0m\u001b[1;33m,\u001b[0m \u001b[1;33m[\u001b[0m\u001b[1;33m]\u001b[0m\u001b[1;33m,\u001b[0m \u001b[0mans\u001b[0m\u001b[1;33m)\u001b[0m\u001b[1;33m\u001b[0m\u001b[1;33m\u001b[0m\u001b[0m\n\u001b[0m\u001b[0;32m      5\u001b[0m         \u001b[1;32mreturn\u001b[0m \u001b[0mans\u001b[0m\u001b[1;33m\u001b[0m\u001b[1;33m\u001b[0m\u001b[0m\n\u001b[0;32m      6\u001b[0m \u001b[1;33m\u001b[0m\u001b[0m\n",
      "\u001b[1;32m<ipython-input-50-54ac128230ed>\u001b[0m in \u001b[0;36mbacktracking\u001b[1;34m(self, nums, path, ans)\u001b[0m\n\u001b[0;32m     14\u001b[0m             \u001b[0mprint\u001b[0m\u001b[1;33m(\u001b[0m\u001b[0mtmp\u001b[0m\u001b[1;33m,\u001b[0m \u001b[0mi\u001b[0m\u001b[1;33m)\u001b[0m\u001b[1;33m\u001b[0m\u001b[1;33m\u001b[0m\u001b[0m\n\u001b[0;32m     15\u001b[0m             \u001b[0mx\u001b[0m \u001b[1;33m=\u001b[0m \u001b[0mtmp\u001b[0m\u001b[1;33m.\u001b[0m\u001b[0mpop\u001b[0m\u001b[1;33m(\u001b[0m\u001b[0mi\u001b[0m\u001b[1;33m)\u001b[0m\u001b[1;33m\u001b[0m\u001b[1;33m\u001b[0m\u001b[0m\n\u001b[1;32m---> 16\u001b[1;33m             \u001b[0mself\u001b[0m\u001b[1;33m.\u001b[0m\u001b[0mbacktracking\u001b[0m\u001b[1;33m(\u001b[0m\u001b[0mtmp\u001b[0m\u001b[1;33m,\u001b[0m \u001b[0mpath\u001b[0m\u001b[1;33m+\u001b[0m\u001b[1;33m[\u001b[0m\u001b[0mx\u001b[0m\u001b[1;33m]\u001b[0m\u001b[1;33m,\u001b[0m \u001b[0mans\u001b[0m\u001b[1;33m)\u001b[0m\u001b[1;33m\u001b[0m\u001b[1;33m\u001b[0m\u001b[0m\n\u001b[0m\u001b[0;32m     17\u001b[0m \u001b[1;33m\u001b[0m\u001b[0m\n\u001b[0;32m     18\u001b[0m \u001b[1;33m\u001b[0m\u001b[0m\n",
      "\u001b[1;32m<ipython-input-50-54ac128230ed>\u001b[0m in \u001b[0;36mbacktracking\u001b[1;34m(self, nums, path, ans)\u001b[0m\n\u001b[0;32m     13\u001b[0m             \u001b[0mtmp\u001b[0m \u001b[1;33m=\u001b[0m \u001b[0mnums\u001b[0m\u001b[1;33m\u001b[0m\u001b[1;33m\u001b[0m\u001b[0m\n\u001b[0;32m     14\u001b[0m             \u001b[0mprint\u001b[0m\u001b[1;33m(\u001b[0m\u001b[0mtmp\u001b[0m\u001b[1;33m,\u001b[0m \u001b[0mi\u001b[0m\u001b[1;33m)\u001b[0m\u001b[1;33m\u001b[0m\u001b[1;33m\u001b[0m\u001b[0m\n\u001b[1;32m---> 15\u001b[1;33m             \u001b[0mx\u001b[0m \u001b[1;33m=\u001b[0m \u001b[0mtmp\u001b[0m\u001b[1;33m.\u001b[0m\u001b[0mpop\u001b[0m\u001b[1;33m(\u001b[0m\u001b[0mi\u001b[0m\u001b[1;33m)\u001b[0m\u001b[1;33m\u001b[0m\u001b[1;33m\u001b[0m\u001b[0m\n\u001b[0m\u001b[0;32m     16\u001b[0m             \u001b[0mself\u001b[0m\u001b[1;33m.\u001b[0m\u001b[0mbacktracking\u001b[0m\u001b[1;33m(\u001b[0m\u001b[0mtmp\u001b[0m\u001b[1;33m,\u001b[0m \u001b[0mpath\u001b[0m\u001b[1;33m+\u001b[0m\u001b[1;33m[\u001b[0m\u001b[0mx\u001b[0m\u001b[1;33m]\u001b[0m\u001b[1;33m,\u001b[0m \u001b[0mans\u001b[0m\u001b[1;33m)\u001b[0m\u001b[1;33m\u001b[0m\u001b[1;33m\u001b[0m\u001b[0m\n\u001b[0;32m     17\u001b[0m \u001b[1;33m\u001b[0m\u001b[0m\n",
      "\u001b[1;31mIndexError\u001b[0m: pop from empty list"
     ]
    }
   ],
   "source": [
    "class Solution:\n",
    "    def permute(self, nums):\n",
    "        ans = []\n",
    "        self.backtracking(nums, [], ans)\n",
    "        return ans\n",
    "        \n",
    "    def backtracking(self, nums, path, ans):\n",
    "        if not nums:\n",
    "            ans.append(path)\n",
    "            return\n",
    "\n",
    "        for i in range(len(nums)):\n",
    "            tmp = nums\n",
    "            print(tmp, i)\n",
    "            x = tmp.pop(i)\n",
    "            self.backtracking(tmp, path+[x], ans)\n",
    "            \n",
    "            \n",
    "ins = Solution()\n",
    "nums = [1,2,3]\n",
    "ins.permute(nums)"
   ]
  },
  {
   "cell_type": "code",
   "execution_count": 39,
   "metadata": {
    "lines_to_next_cell": 2,
    "scrolled": false
   },
   "outputs": [
    {
     "name": "stdout",
     "output_type": "stream",
     "text": [
      "[1, 2, 3] 0\n",
      "[2, 3] 0\n",
      "[3] 0\n",
      "[] 1\n"
     ]
    },
    {
     "ename": "IndexError",
     "evalue": "pop from empty list",
     "output_type": "error",
     "traceback": [
      "\u001b[1;31m---------------------------------------------------------------------------\u001b[0m",
      "\u001b[1;31mIndexError\u001b[0m                                Traceback (most recent call last)",
      "\u001b[1;32m<ipython-input-39-7c58da43aa37>\u001b[0m in \u001b[0;36m<module>\u001b[1;34m\u001b[0m\n\u001b[0;32m      1\u001b[0m \u001b[0mins\u001b[0m \u001b[1;33m=\u001b[0m \u001b[0mSolution\u001b[0m\u001b[1;33m(\u001b[0m\u001b[1;33m)\u001b[0m\u001b[1;33m\u001b[0m\u001b[1;33m\u001b[0m\u001b[0m\n\u001b[0;32m      2\u001b[0m \u001b[0mnums\u001b[0m \u001b[1;33m=\u001b[0m \u001b[1;33m[\u001b[0m\u001b[1;36m1\u001b[0m\u001b[1;33m,\u001b[0m\u001b[1;36m2\u001b[0m\u001b[1;33m,\u001b[0m\u001b[1;36m3\u001b[0m\u001b[1;33m]\u001b[0m\u001b[1;33m\u001b[0m\u001b[1;33m\u001b[0m\u001b[0m\n\u001b[1;32m----> 3\u001b[1;33m \u001b[0mins\u001b[0m\u001b[1;33m.\u001b[0m\u001b[0mpermute\u001b[0m\u001b[1;33m(\u001b[0m\u001b[0mnums\u001b[0m\u001b[1;33m)\u001b[0m\u001b[1;33m\u001b[0m\u001b[1;33m\u001b[0m\u001b[0m\n\u001b[0m",
      "\u001b[1;32m<ipython-input-38-9396654b0c68>\u001b[0m in \u001b[0;36mpermute\u001b[1;34m(self, nums)\u001b[0m\n\u001b[0;32m      2\u001b[0m     \u001b[1;32mdef\u001b[0m \u001b[0mpermute\u001b[0m\u001b[1;33m(\u001b[0m\u001b[0mself\u001b[0m\u001b[1;33m,\u001b[0m \u001b[0mnums\u001b[0m\u001b[1;33m)\u001b[0m\u001b[1;33m:\u001b[0m\u001b[1;33m\u001b[0m\u001b[1;33m\u001b[0m\u001b[0m\n\u001b[0;32m      3\u001b[0m         \u001b[0mans\u001b[0m \u001b[1;33m=\u001b[0m \u001b[1;33m[\u001b[0m\u001b[1;33m]\u001b[0m\u001b[1;33m\u001b[0m\u001b[1;33m\u001b[0m\u001b[0m\n\u001b[1;32m----> 4\u001b[1;33m         \u001b[0mself\u001b[0m\u001b[1;33m.\u001b[0m\u001b[0mbacktracking\u001b[0m\u001b[1;33m(\u001b[0m\u001b[0mnums\u001b[0m\u001b[1;33m,\u001b[0m \u001b[1;33m[\u001b[0m\u001b[1;33m]\u001b[0m\u001b[1;33m,\u001b[0m \u001b[0mans\u001b[0m\u001b[1;33m)\u001b[0m\u001b[1;33m\u001b[0m\u001b[1;33m\u001b[0m\u001b[0m\n\u001b[0m\u001b[0;32m      5\u001b[0m         \u001b[1;32mreturn\u001b[0m \u001b[0mans\u001b[0m\u001b[1;33m\u001b[0m\u001b[1;33m\u001b[0m\u001b[0m\n\u001b[0;32m      6\u001b[0m \u001b[1;33m\u001b[0m\u001b[0m\n",
      "\u001b[1;32m<ipython-input-38-9396654b0c68>\u001b[0m in \u001b[0;36mbacktracking\u001b[1;34m(self, nums, path, ans)\u001b[0m\n\u001b[0;32m     14\u001b[0m             \u001b[0mprint\u001b[0m\u001b[1;33m(\u001b[0m\u001b[0mtmp\u001b[0m\u001b[1;33m,\u001b[0m \u001b[0mi\u001b[0m\u001b[1;33m)\u001b[0m\u001b[1;33m\u001b[0m\u001b[1;33m\u001b[0m\u001b[0m\n\u001b[0;32m     15\u001b[0m             \u001b[0mpath\u001b[0m\u001b[1;33m.\u001b[0m\u001b[0mappend\u001b[0m\u001b[1;33m(\u001b[0m\u001b[0mtmp\u001b[0m\u001b[1;33m.\u001b[0m\u001b[0mpop\u001b[0m\u001b[1;33m(\u001b[0m\u001b[0mi\u001b[0m\u001b[1;33m)\u001b[0m\u001b[1;33m)\u001b[0m\u001b[1;33m\u001b[0m\u001b[1;33m\u001b[0m\u001b[0m\n\u001b[1;32m---> 16\u001b[1;33m             \u001b[0mself\u001b[0m\u001b[1;33m.\u001b[0m\u001b[0mbacktracking\u001b[0m\u001b[1;33m(\u001b[0m\u001b[0mtmp\u001b[0m\u001b[1;33m,\u001b[0m \u001b[0mpath\u001b[0m\u001b[1;33m,\u001b[0m \u001b[0mans\u001b[0m\u001b[1;33m)\u001b[0m\u001b[1;33m\u001b[0m\u001b[1;33m\u001b[0m\u001b[0m\n\u001b[0m",
      "\u001b[1;32m<ipython-input-38-9396654b0c68>\u001b[0m in \u001b[0;36mbacktracking\u001b[1;34m(self, nums, path, ans)\u001b[0m\n\u001b[0;32m     13\u001b[0m             \u001b[0mtmp\u001b[0m \u001b[1;33m=\u001b[0m \u001b[0mnums\u001b[0m\u001b[1;33m\u001b[0m\u001b[1;33m\u001b[0m\u001b[0m\n\u001b[0;32m     14\u001b[0m             \u001b[0mprint\u001b[0m\u001b[1;33m(\u001b[0m\u001b[0mtmp\u001b[0m\u001b[1;33m,\u001b[0m \u001b[0mi\u001b[0m\u001b[1;33m)\u001b[0m\u001b[1;33m\u001b[0m\u001b[1;33m\u001b[0m\u001b[0m\n\u001b[1;32m---> 15\u001b[1;33m             \u001b[0mpath\u001b[0m\u001b[1;33m.\u001b[0m\u001b[0mappend\u001b[0m\u001b[1;33m(\u001b[0m\u001b[0mtmp\u001b[0m\u001b[1;33m.\u001b[0m\u001b[0mpop\u001b[0m\u001b[1;33m(\u001b[0m\u001b[0mi\u001b[0m\u001b[1;33m)\u001b[0m\u001b[1;33m)\u001b[0m\u001b[1;33m\u001b[0m\u001b[1;33m\u001b[0m\u001b[0m\n\u001b[0m\u001b[0;32m     16\u001b[0m             \u001b[0mself\u001b[0m\u001b[1;33m.\u001b[0m\u001b[0mbacktracking\u001b[0m\u001b[1;33m(\u001b[0m\u001b[0mtmp\u001b[0m\u001b[1;33m,\u001b[0m \u001b[0mpath\u001b[0m\u001b[1;33m,\u001b[0m \u001b[0mans\u001b[0m\u001b[1;33m)\u001b[0m\u001b[1;33m\u001b[0m\u001b[1;33m\u001b[0m\u001b[0m\n",
      "\u001b[1;31mIndexError\u001b[0m: pop from empty list"
     ]
    }
   ],
   "source": []
  },
  {
   "cell_type": "code",
   "execution_count": null,
   "metadata": {
    "scrolled": true
   },
   "outputs": [],
   "source": [
    "class Solution:\n",
    "    def rotate(self, matrix):\n",
    "        \"\"\"\n",
    "        Do not return anything][modify matrix in-place instead.\n",
    "        \"\"\"\n",
    "        # i...j\n",
    "        # j...n-i\n",
    "        ni = len(matrix)\n",
    "        nj = len(matrix[0])\n",
    "        for i in range(ni//2+1):\n",
    "            for j in range(i, nj-i-1):\n",
    "                matrix[i][j], matrix[j][nj-i-1], matrix[ni-i-1][nj-i-1], matrix[ni-j-1][i] = \\\n",
    "                matrix[ni-j-1][i], matrix[i][j], matrix[j][nj-i-1], matrix[ni-i-1][nj-i-1]\n",
    "                    \n",
    "ins = Solution()\n",
    "matrix = [\n",
    "  [1,2,3],\n",
    "  [4,5,6],\n",
    "  [7,8,9]\n",
    "]\n",
    "ins.rotate(matrix)"
   ]
  },
  {
   "cell_type": "code",
   "execution_count": null,
   "metadata": {},
   "outputs": [],
   "source": [
    "matrix"
   ]
  },
  {
   "cell_type": "code",
   "execution_count": null,
   "metadata": {},
   "outputs": [
    {
     "name": "stdout",
     "output_type": "stream",
     "text": [
      "> \u001b[1;32m<ipython-input-56-5caa500b4be2>\u001b[0m(13)\u001b[0;36mrotate\u001b[1;34m()\u001b[0m\n",
      "\u001b[1;32m     11 \u001b[1;33m            \u001b[1;32mfor\u001b[0m \u001b[0mj\u001b[0m \u001b[1;32min\u001b[0m \u001b[0mrange\u001b[0m\u001b[1;33m(\u001b[0m\u001b[0mi\u001b[0m\u001b[1;33m,\u001b[0m \u001b[0mnj\u001b[0m\u001b[1;33m-\u001b[0m\u001b[0mi\u001b[0m\u001b[1;33m-\u001b[0m\u001b[1;36m1\u001b[0m\u001b[1;33m)\u001b[0m\u001b[1;33m:\u001b[0m\u001b[1;33m\u001b[0m\u001b[1;33m\u001b[0m\u001b[0m\n",
      "\u001b[0m\u001b[1;32m     12 \u001b[1;33m                \u001b[0mmatrix\u001b[0m\u001b[1;33m[\u001b[0m\u001b[0mi\u001b[0m\u001b[1;33m,\u001b[0m \u001b[0mj\u001b[0m\u001b[1;33m]\u001b[0m\u001b[1;33m,\u001b[0m \u001b[0mmatrix\u001b[0m\u001b[1;33m[\u001b[0m\u001b[0mj\u001b[0m\u001b[1;33m,\u001b[0m \u001b[0mnj\u001b[0m\u001b[1;33m-\u001b[0m\u001b[0mi\u001b[0m\u001b[1;33m-\u001b[0m\u001b[1;36m1\u001b[0m\u001b[1;33m]\u001b[0m\u001b[1;33m,\u001b[0m \u001b[0mmatrix\u001b[0m\u001b[1;33m[\u001b[0m\u001b[0mni\u001b[0m\u001b[1;33m-\u001b[0m\u001b[0mi\u001b[0m\u001b[1;33m-\u001b[0m\u001b[1;36m1\u001b[0m\u001b[1;33m,\u001b[0m \u001b[0mnj\u001b[0m\u001b[1;33m-\u001b[0m\u001b[0mi\u001b[0m\u001b[1;33m-\u001b[0m\u001b[1;36m1\u001b[0m\u001b[1;33m]\u001b[0m\u001b[1;33m,\u001b[0m \u001b[0mmatrix\u001b[0m\u001b[1;33m[\u001b[0m\u001b[0mni\u001b[0m\u001b[1;33m-\u001b[0m\u001b[0mj\u001b[0m\u001b[1;33m-\u001b[0m\u001b[1;36m1\u001b[0m\u001b[1;33m,\u001b[0m \u001b[0mi\u001b[0m\u001b[1;33m]\u001b[0m \u001b[1;33m=\u001b[0m\u001b[0;31m \u001b[0m\u001b[0;31m\\\u001b[0m\u001b[1;33m\u001b[0m\u001b[1;33m\u001b[0m\u001b[0m\n",
      "\u001b[0m\u001b[1;32m---> 13 \u001b[1;33m                \u001b[0mmatrix\u001b[0m\u001b[1;33m[\u001b[0m\u001b[0mni\u001b[0m\u001b[1;33m-\u001b[0m\u001b[0mj\u001b[0m\u001b[1;33m-\u001b[0m\u001b[1;36m1\u001b[0m\u001b[1;33m,\u001b[0m \u001b[0mi\u001b[0m\u001b[1;33m]\u001b[0m\u001b[1;33m,\u001b[0m \u001b[0mmatrix\u001b[0m\u001b[1;33m[\u001b[0m\u001b[0mi\u001b[0m\u001b[1;33m,\u001b[0m \u001b[0mj\u001b[0m\u001b[1;33m]\u001b[0m\u001b[1;33m,\u001b[0m \u001b[0mmatrix\u001b[0m\u001b[1;33m[\u001b[0m\u001b[0mj\u001b[0m\u001b[1;33m,\u001b[0m \u001b[0mnj\u001b[0m\u001b[1;33m-\u001b[0m\u001b[0mi\u001b[0m\u001b[1;33m-\u001b[0m\u001b[1;36m1\u001b[0m\u001b[1;33m]\u001b[0m\u001b[1;33m,\u001b[0m \u001b[0mmatrix\u001b[0m\u001b[1;33m[\u001b[0m\u001b[0mni\u001b[0m\u001b[1;33m-\u001b[0m\u001b[0mi\u001b[0m\u001b[1;33m-\u001b[0m\u001b[1;36m1\u001b[0m\u001b[1;33m,\u001b[0m \u001b[0mnj\u001b[0m\u001b[1;33m-\u001b[0m\u001b[0mi\u001b[0m\u001b[1;33m-\u001b[0m\u001b[1;36m1\u001b[0m\u001b[1;33m]\u001b[0m\u001b[1;33m\u001b[0m\u001b[1;33m\u001b[0m\u001b[0m\n",
      "\u001b[0m\u001b[1;32m     14 \u001b[1;33m\u001b[1;33m\u001b[0m\u001b[0m\n",
      "\u001b[0m\u001b[1;32m     15 \u001b[1;33m\u001b[0mins\u001b[0m \u001b[1;33m=\u001b[0m \u001b[0mSolution\u001b[0m\u001b[1;33m(\u001b[0m\u001b[1;33m)\u001b[0m\u001b[1;33m\u001b[0m\u001b[1;33m\u001b[0m\u001b[0m\n",
      "\u001b[0m\n",
      "ipdb> p matrix[i, j]\n",
      "*** TypeError: list indices must be integers or slices, not tuple\n",
      "ipdb> p matrix\n",
      "[[1, 2, 3], [4, 5, 6], [7, 8, 9]]\n",
      "ipdb> p matrix[i]\n",
      "[1, 2, 3]\n",
      "ipdb> p j\n",
      "0\n"
     ]
    }
   ],
   "source": [
    "%debug"
   ]
  },
  {
   "cell_type": "code",
   "execution_count": 7,
   "metadata": {},
   "outputs": [
    {
     "name": "stdout",
     "output_type": "stream",
     "text": [
      "x: 4\n",
      "n: 5\n",
      "if 5 4\n",
      "x: 16\n",
      "n: 2\n",
      "x: 256\n",
      "n: 1\n",
      "if 1 256\n",
      "x: 65536\n",
      "n: 0\n"
     ]
    },
    {
     "data": {
      "text/plain": [
       "1024"
      ]
     },
     "execution_count": 7,
     "metadata": {},
     "output_type": "execute_result"
    }
   ],
   "source": [
    "class Solution:\n",
    "    def myPow(self, x, n):\n",
    "        if n < 0:\n",
    "            x = 1 / x\n",
    "            n = -n\n",
    "        pow = 1\n",
    "        while n:\n",
    "            if n & 1:\n",
    "                pow *= x\n",
    "                print(\"if\", n, x)\n",
    "            x *= x\n",
    "            print(\"x:\", x)\n",
    "            n >>= 1\n",
    "            print(\"n:\", n)\n",
    "        return pow\n",
    "    \n",
    "    \n",
    "ins = Solution()\n",
    "ins.myPow(2, 10)"
   ]
  },
  {
   "cell_type": "code",
   "execution_count": 12,
   "metadata": {
    "lines_to_next_cell": 2
   },
   "outputs": [
    {
     "data": {
      "text/plain": [
       "[7, 9, 6]"
      ]
     },
     "execution_count": 12,
     "metadata": {},
     "output_type": "execute_result"
    }
   ],
   "source": [
    "class Solution:\n",
    "    def spiralOrder(self, matrix):\n",
    "        ans = []\n",
    "        while matrix:\n",
    "            # 先頭行をpop（順方向）\n",
    "            tmp = matrix.pop(0)\n",
    "            ans.extend(tmp)\n",
    "            if not matrix[0]:\n",
    "                return ans\n",
    "\n",
    "            # 最終列をpop（順方向）\n",
    "            for i in range(len(matrix)):\n",
    "                tmp = matrix[i].pop(-1)\n",
    "                ans += [tmp]\n",
    "            if not matrix[0]:\n",
    "                return ans\n",
    "\n",
    "            # 最終行をpop（逆方向）\n",
    "            tmp = matrix.pop(-1)\n",
    "            tmp.reverse()\n",
    "            ans.extend(tmp)\n",
    "            if not matrix[0]:\n",
    "                return ans\n",
    "\n",
    "            # 先頭列をpop（逆方向）\n",
    "            tmp = []\n",
    "            for i in range(len(matrix)):\n",
    "                print(matrix[i], i, tmp)\n",
    "                tmp.append(matrix[i].pop(0))\n",
    "            tmp.reverse()\n",
    "            ans.extend(tmp)\n",
    "        return ans\n",
    "\n",
    "ins = Solution()\n",
    "matrix = [[7],[9],[6]]\n",
    "ins.spiralOrder(matrix)"
   ]
  },
  {
   "cell_type": "code",
   "execution_count": 11,
   "metadata": {},
   "outputs": [
    {
     "data": {
      "text/plain": [
       "True"
      ]
     },
     "execution_count": 11,
     "metadata": {},
     "output_type": "execute_result"
    }
   ],
   "source": [
    "matrix = []\n",
    "\n",
    "not matrix"
   ]
  },
  {
   "cell_type": "code",
   "execution_count": 14,
   "metadata": {},
   "outputs": [
    {
     "data": {
      "text/plain": [
       "1"
      ]
     },
     "execution_count": 14,
     "metadata": {},
     "output_type": "execute_result"
    }
   ],
   "source": [
    "min([1])"
   ]
  },
  {
   "cell_type": "code",
   "execution_count": 9,
   "metadata": {},
   "outputs": [
    {
     "name": "stdout",
     "output_type": "stream",
     "text": [
      "1 100 0 -1 deque([]) [100, 0, 0, 0]\n",
      "2 110 1 0 deque([]) [100, 110, 0, 0]\n",
      "3 110 1 0 deque([(2, 110, 1)]) [100, 110, 0, 0]\n",
      "100 110 111 110\n"
     ]
    }
   ],
   "source": [
    "# https://atcoder.jp/contests/abc138/submissions/6992193\n",
    "from collections import deque\n",
    " \n",
    "N, Q = 4, 3\n",
    "to = [[] for _ in range(N)]\n",
    "\n",
    "ab = [\n",
    "    [1,2],\n",
    "    [2,3],\n",
    "    [2,4]\n",
    "]\n",
    "px = [\n",
    "    [2,10],\n",
    "    [1,100],\n",
    "    [3,1]\n",
    "]\n",
    "\n",
    "# to: つながっているノード番号を保持\n",
    "for i in range(N - 1):\n",
    "    a, b = ab[i]\n",
    "    to[a - 1].append(b - 1)\n",
    "    to[b - 1].append(a - 1)\n",
    "\n",
    "# P: 各ノード番号にxの和を保持（後に累積和をとる準備）\n",
    "P = [0] * N\n",
    "for j in range(Q):\n",
    "    p, x = px[j]\n",
    "    P[p - 1] += x\n",
    "\n",
    "# cnt: 累積和の計算用    \n",
    "cnt = [0] * N\n",
    "\n",
    "# rootから順に累積和をとっていく\n",
    "q = deque()\n",
    "q.append((0, 0, -1))  # ダミーの値\n",
    "while len(q):\n",
    "    p, x, prev = q.pop()  # スタックとして使用\n",
    "    x += P[p]\n",
    "    cnt[p] = x\n",
    "    for b in to[p]:  # つながっているノードにもxを加算\n",
    "        if b != prev:\n",
    "            print(b, x, p, prev, q, cnt)\n",
    "            q.append((b, x, p))  # b: xを加算するノード, p: xが親（本ループですでに加算したノード）に波及して来ないようにするための制御用の値\n",
    "print(*cnt)"
   ]
  },
  {
   "cell_type": "code",
   "execution_count": 3,
   "metadata": {},
   "outputs": [
    {
     "data": {
      "text/plain": [
       "[[1], [0, 2, 3], [1], [1]]"
      ]
     },
     "execution_count": 3,
     "metadata": {},
     "output_type": "execute_result"
    }
   ],
   "source": [
    "to"
   ]
  },
  {
   "cell_type": "code",
   "execution_count": 4,
   "metadata": {},
   "outputs": [
    {
     "data": {
      "text/plain": [
       "[100, 10, 1, 0]"
      ]
     },
     "execution_count": 4,
     "metadata": {},
     "output_type": "execute_result"
    }
   ],
   "source": [
    "P"
   ]
  },
  {
   "cell_type": "code",
   "execution_count": 5,
   "metadata": {},
   "outputs": [
    {
     "data": {
      "text/plain": [
       "[100, 110, 111, 110]"
      ]
     },
     "execution_count": 5,
     "metadata": {},
     "output_type": "execute_result"
    }
   ],
   "source": [
    "cnt"
   ]
  },
  {
   "cell_type": "code",
   "execution_count": null,
   "metadata": {},
   "outputs": [],
   "source": []
  }
 ],
 "metadata": {
  "jupytext": {
   "encoding": "# -*- coding: utf-8 -*-",
   "text_representation": {
    "extension": ".py",
    "format_name": "light",
    "format_version": "1.4",
    "jupytext_version": "1.2.1"
   }
  },
  "kernelspec": {
   "display_name": "Python 3",
   "language": "python",
   "name": "python3"
  },
  "language_info": {
   "codemirror_mode": {
    "name": "ipython",
    "version": 3
   },
   "file_extension": ".py",
   "mimetype": "text/x-python",
   "name": "python",
   "nbconvert_exporter": "python",
   "pygments_lexer": "ipython3",
   "version": "3.7.0"
  },
  "toc": {
   "base_numbering": 1,
   "nav_menu": {},
   "number_sections": true,
   "sideBar": true,
   "skip_h1_title": false,
   "title_cell": "Table of Contents",
   "title_sidebar": "Contents",
   "toc_cell": false,
   "toc_position": {},
   "toc_section_display": true,
   "toc_window_display": false
  },
  "varInspector": {
   "cols": {
    "lenName": 16,
    "lenType": 16,
    "lenVar": 40
   },
   "kernels_config": {
    "python": {
     "delete_cmd_postfix": "",
     "delete_cmd_prefix": "del ",
     "library": "var_list.py",
     "varRefreshCmd": "print(var_dic_list())"
    },
    "r": {
     "delete_cmd_postfix": ") ",
     "delete_cmd_prefix": "rm(",
     "library": "var_list.r",
     "varRefreshCmd": "cat(var_dic_list()) "
    }
   },
   "types_to_exclude": [
    "module",
    "function",
    "builtin_function_or_method",
    "instance",
    "_Feature"
   ],
   "window_display": false
  }
 },
 "nbformat": 4,
 "nbformat_minor": 2
}
